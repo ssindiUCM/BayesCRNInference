{
 "cells": [
  {
   "cell_type": "markdown",
   "id": "60cca557-10bb-40cc-8b85-be69da0be07d",
   "metadata": {},
   "source": [
    "## Example 1: Explore Degenerate System\n",
    "\n",
    "Here we will explore inference when there is not a single unique set of parameters."
   ]
  },
  {
   "cell_type": "code",
   "execution_count": 1,
   "id": "e1f127a3-72a3-431c-996e-6283f2abe2d3",
   "metadata": {},
   "outputs": [],
   "source": [
    "import sys\n",
    "import os\n",
    "\n",
    "# Add repo root to Python path (one level up from examples/)\n",
    "sys.path.append(os.path.abspath(\"..\"))  \n",
    "\n",
    "from src.parsing import *\n",
    "from CRN_Simulation.CRN import CRN\n",
    "\n",
    "import numpy as np\n",
    "import random"
   ]
  },
  {
   "cell_type": "code",
   "execution_count": 2,
   "id": "96d708a2-c19f-4966-95e6-662dc5b10d88",
   "metadata": {},
   "outputs": [
    {
     "name": "stdout",
     "output_type": "stream",
     "text": [
      "Total reactions generated: 30\n",
      "Some reaction names: ['Empty_to_X2:', 'Empty_to_2X2:', 'Empty_to_X1:', 'Empty_to_X1+X2:', 'Empty_to_2X1:']\n"
     ]
    }
   ],
   "source": [
    "# Determine Stochiometric, Reactant and names of reactions\n",
    "species_names = [\"X1\", \"X2\"]\n",
    "\n",
    "# Define complexes (example: bi-molecular)\n",
    "complexes = np.array([[0, 0, 0, 1, 1, 2],\n",
    "                      [0, 1, 2, 0, 1, 0]])\n",
    "\n",
    "reactant_matrix, product_matrix, stoichiometric_matrix, reaction_names, parameter_names = generate_reactions(complexes, species_names)\n",
    "print(f\"Total reactions generated: {len(reaction_names)}\")\n",
    "print(\"Some reaction names:\", reaction_names[:5])"
   ]
  },
  {
   "cell_type": "code",
   "execution_count": 3,
   "id": "b91bb93a-c715-4c14-a7e1-c39971c58ce6",
   "metadata": {},
   "outputs": [],
   "source": [
    "############################\n",
    "# Set up Reaction System 1 #\n",
    "############################\n",
    "\n",
    "reactions_sys1 = [\"X1_to_X2\", \"X2_to_X1\"]\n",
    "rates_sys1 = [1.0, 1.0]  # X1_to_X2, X2_to_X1\n",
    "\n",
    "\n",
    "############################\n",
    "# Set up Reaction System 2 #\n",
    "############################\n",
    "reactions_sys2 = [\"2X1_to_X1+X2\", \"X1+X2_to_2X1\",\"X1+X2_to_2X2\",\"2X2_to_X1+X2\"]\n",
    "rates_sys2     = [1.0, 1.0, 1.0, 2,0]  \n"
   ]
  },
  {
   "cell_type": "code",
   "execution_count": 4,
   "id": "7664247f-3255-4bbc-9485-a55b0807c02f",
   "metadata": {},
   "outputs": [
    {
     "name": "stdout",
     "output_type": "stream",
     "text": [
      "CRN1 created.\n",
      "Reaction indices: [16, 7]\n",
      "Parameter values: {'k16': 1.0, 'k7': 1.0}\n",
      "CRN2 created.\n",
      "Reaction indices: [29, 24, 22, 13]\n",
      "Parameter values: {'k29': 1.0, 'k24': 1.0, 'k22': 1.0, 'k13': 2}\n"
     ]
    }
   ],
   "source": [
    "############################\n",
    "# Generate CRN System 1\n",
    "############################\n",
    "(CRN1_stoichiometric_matrix,\n",
    " CRN1_reaction_names,\n",
    " CRN1_parameter_names,\n",
    " CRN1_propensities,\n",
    " CRN1_parameter_values,\n",
    " CRN1_indices) = build_subCRN_from_names(\n",
    "    reactant_matrix,\n",
    "    product_matrix,\n",
    "    stoichiometric_matrix,\n",
    "    reaction_names,\n",
    "    parameter_names,\n",
    "    species_names,\n",
    "    selected_names=reactions_sys1,\n",
    "    rates=rates_sys1\n",
    ")\n",
    "\n",
    "rn1 = CRN(\n",
    "    species_names=species_names,\n",
    "    stoichiometric_matrix=CRN1_stoichiometric_matrix,\n",
    "    parameters_names=CRN1_parameter_names,\n",
    "    reaction_names=CRN1_reaction_names,\n",
    "    propensities=CRN1_propensities\n",
    ")\n",
    "\n",
    "print(\"CRN1 created.\")\n",
    "print(\"Reaction indices:\", CRN1_indices)\n",
    "print(\"Parameter values:\", CRN1_parameter_values)\n",
    "\n",
    "\n",
    "############################\n",
    "# Generate CRN System 2\n",
    "############################\n",
    "(CRN2_stoichiometric_matrix,\n",
    " CRN2_reaction_names,\n",
    " CRN2_parameter_names,\n",
    " CRN2_propensities,\n",
    " CRN2_parameter_values,\n",
    " CRN2_indices) = build_subCRN_from_names(\n",
    "    reactant_matrix,\n",
    "    product_matrix,\n",
    "    stoichiometric_matrix,\n",
    "    reaction_names,\n",
    "    parameter_names,\n",
    "    species_names,\n",
    "    selected_names=reactions_sys2,\n",
    "    rates=rates_sys2\n",
    ")\n",
    "\n",
    "rn2 = CRN(\n",
    "    species_names=species_names,\n",
    "    stoichiometric_matrix=CRN2_stoichiometric_matrix,\n",
    "    parameters_names=CRN2_parameter_names,\n",
    "    reaction_names=CRN2_reaction_names,\n",
    "    propensities=CRN2_propensities\n",
    ")\n",
    "\n",
    "print(\"CRN2 created.\")\n",
    "print(\"Reaction indices:\", CRN2_indices)\n",
    "print(\"Parameter values:\", CRN2_parameter_values)\n"
   ]
  },
  {
   "cell_type": "code",
   "execution_count": 5,
   "id": "acd70c96-52ea-4265-ace9-13b7a80941c4",
   "metadata": {},
   "outputs": [
    {
     "name": "stdout",
     "output_type": "stream",
     "text": [
      "Initial state: {'X1': np.int64(1), 'X2': np.int64(1)}\n",
      "Trajectory saved to ../data/example1_crn1_trajectory.json\n",
      "CRN1 trajectory saved to ../data/example1_crn1_trajectory.json\n",
      "Initial state: {'X1': np.int64(1), 'X2': np.int64(1)}\n",
      "Trajectory saved to ../data/example2_crn2_trajectory.json\n",
      "CRN2 trajectory saved to ../data/example2_crn2_trajectory.json\n"
     ]
    },
    {
     "data": {
      "image/png": "[encoded data removed]",
      "text/plain": [
       "<Figure size 600x300 with 2 Axes>"
      ]
     },
     "metadata": {},
     "output_type": "display_data"
    },
    {
     "data": {
      "image/png": "[encoded data removed]",
      "text/plain": [
       "<Figure size 600x300 with 2 Axes>"
      ]
     },
     "metadata": {},
     "output_type": "display_data"
    }
   ],
   "source": [
    "data_dir = \"../data\"  # relative to examples/ folder\n",
    "os.makedirs(data_dir, exist_ok=True)\n",
    "\n",
    "############################\n",
    "# Generate trajectory for CRN1\n",
    "############################\n",
    "time_list1, state_list1 = generate_single_trajectory(\n",
    "    rn1,\n",
    "    CRN1_parameter_values,\n",
    "    species_names,\n",
    "    finalTime=200,   # adjust as needed\n",
    "    minVal=1,\n",
    "    maxVal=1,\n",
    "    seed=42          # for reproducibility\n",
    ")\n",
    "\n",
    "trajectory_file1 = os.path.join(data_dir, \"example1_crn1_trajectory.json\")\n",
    "save_trajectory(time_list1, state_list1, filename=trajectory_file1)\n",
    "print(f\"CRN1 trajectory saved to {trajectory_file1}\")\n",
    "\n",
    "\n",
    "############################\n",
    "# Generate trajectory for CRN2\n",
    "############################\n",
    "time_list2, state_list2 = generate_single_trajectory(\n",
    "    rn2,\n",
    "    CRN2_parameter_values,\n",
    "    species_names,\n",
    "    finalTime=200,   # adjust as needed\n",
    "    minVal=1,\n",
    "    maxVal=1,\n",
    "    seed=42          # reproducibility\n",
    ")\n",
    "\n",
    "trajectory_file2 = os.path.join(data_dir, \"example2_crn2_trajectory.json\")\n",
    "save_trajectory(time_list2, state_list2, filename=trajectory_file2)\n",
    "print(f\"CRN2 trajectory saved to {trajectory_file2}\")\n"
   ]
  },
  {
   "cell_type": "code",
   "execution_count": 6,
   "id": "62bd3d8c-c5a1-4c77-a9e6-a6e30fcf03ba",
   "metadata": {},
   "outputs": [
    {
     "name": "stdout",
     "output_type": "stream",
     "text": [
      "Wrapped single trajectory into list of trajectories.\n",
      "Tracking data for 18 unique stoichiometric changes\n",
      "Processing trajectory 1 of 1\n",
      "\tProcessing state 0 of 365\n",
      "Finished processing states. Computing propensities...\n",
      "\tProcessing propensities for state 0 = (1, 1)\n",
      "Finished successfully.\n",
      "Wrapped single trajectory into list of trajectories.\n",
      "Tracking data for 18 unique stoichiometric changes\n",
      "Processing trajectory 1 of 1\n",
      "\tProcessing state 0 of 302\n",
      "Finished processing states. Computing propensities...\n",
      "\tProcessing propensities for state 0 = (1, 1)\n",
      "Finished successfully.\n",
      "CRN1: 3 unique states observed\n",
      "CRN2: 3 unique states observed\n"
     ]
    }
   ],
   "source": [
    "# Parse trajectory for CRN1\n",
    "[col_dict1, XCurrKeys1, X_Counts1, T_Vals1, X_Propensities1] = \\\n",
    "    calc_XCurr_ChangeTimePropensitySimple(\n",
    "        state_list1,\n",
    "        time_list1,\n",
    "        reactant_matrix,\n",
    "        stoichiometric_matrix\n",
    "    )\n",
    "\n",
    "# Parse trajectory for CRN2\n",
    "[col_dict2, XCurrKeys2, X_Counts2, T_Vals2, X_Propensities2] = \\\n",
    "    calc_XCurr_ChangeTimePropensitySimple(\n",
    "        state_list2,\n",
    "        time_list2,\n",
    "        reactant_matrix,\n",
    "        stoichiometric_matrix\n",
    "    )\n",
    "\n",
    "# Print some basic info to check\n",
    "print(f\"CRN1: {len(XCurrKeys1)} unique states observed\")\n",
    "print(f\"CRN2: {len(XCurrKeys2)} unique states observed\")\n"
   ]
  },
  {
   "cell_type": "code",
   "execution_count": 7,
   "id": "70956de2-09b3-4d81-b7ec-1b022c7bc48c",
   "metadata": {},
   "outputs": [
    {
     "data": {
      "text/plain": [
       "[(1, 1), (2, 0), (0, 2)]"
      ]
     },
     "execution_count": 7,
     "metadata": {},
     "output_type": "execute_result"
    }
   ],
   "source": [
    "XCurrKeys1"
   ]
  },
  {
   "cell_type": "code",
   "execution_count": 8,
   "id": "333f0958-c721-406a-a7fd-b88a54321d7b",
   "metadata": {},
   "outputs": [
    {
     "data": {
      "text/plain": [
       "[(1, 1), (0, 2), (2, 0)]"
      ]
     },
     "execution_count": 8,
     "metadata": {},
     "output_type": "execute_result"
    }
   ],
   "source": [
    "XCurrKeys2"
   ]
  },
  {
   "cell_type": "code",
   "execution_count": null,
   "id": "00082124-1df8-4e4a-8f88-7d628d356ab0",
   "metadata": {},
   "outputs": [],
   "source": []
  }
 ],
 "metadata": {
  "kernelspec": {
   "display_name": "Python 3 (ipykernel)",
   "language": "python",
   "name": "python3"
  },
  "language_info": {
   "codemirror_mode": {
    "name": "ipython",
    "version": 3
   },
   "file_extension": ".py",
   "mimetype": "text/x-python",
   "name": "python",
   "nbconvert_exporter": "python",
   "pygments_lexer": "ipython3",
   "version": "3.12.6"
  }
 },
 "nbformat": 4,
 "nbformat_minor": 5
}
