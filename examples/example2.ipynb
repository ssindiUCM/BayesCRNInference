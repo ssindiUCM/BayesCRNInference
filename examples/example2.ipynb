{
 "cells": [
  {
   "cell_type": "markdown",
   "id": "60cca557-10bb-40cc-8b85-be69da0be07d",
   "metadata": {},
   "source": [
    "## Example 2: Challenges in Identifiability\n",
    "\n",
    "Here we will explore inference when there is not a single unique set of parameters."
   ]
  },
  {
   "cell_type": "code",
   "execution_count": 1,
   "id": "e1f127a3-72a3-431c-996e-6283f2abe2d3",
   "metadata": {},
   "outputs": [],
   "source": [
    "import sys\n",
    "import os\n",
    "\n",
    "# Add repo root to Python path (one level up from examples/)\n",
    "sys.path.append(os.path.abspath(\"..\"))  \n",
    "\n",
    "from src.parsing import *\n",
    "from CRN_Simulation.CRN import CRN\n",
    "\n",
    "import numpy as np\n",
    "import random"
   ]
  },
  {
   "cell_type": "code",
   "execution_count": 2,
   "id": "96d708a2-c19f-4966-95e6-662dc5b10d88",
   "metadata": {},
   "outputs": [
    {
     "name": "stdout",
     "output_type": "stream",
     "text": [
      "Total reactions generated: 30\n",
      "Some reaction names: ['Empty_to_X2:', 'Empty_to_2X2:', 'Empty_to_X1:', 'Empty_to_X1+X2:', 'Empty_to_2X1:']\n"
     ]
    }
   ],
   "source": [
    "# Determine Stochiometric, Reactant and names of reactions\n",
    "species_names = [\"X1\", \"X2\"]\n",
    "\n",
    "# Define complexes (example: bi-molecular)\n",
    "complexes = np.array([[0, 0, 0, 1, 1, 2],\n",
    "                      [0, 1, 2, 0, 1, 0]])\n",
    "\n",
    "reactant_matrix, product_matrix, stoichiometric_matrix, reaction_names, parameter_names = generate_reactions(complexes, species_names)\n",
    "print(f\"Total reactions generated: {len(reaction_names)}\")\n",
    "print(\"Some reaction names:\", reaction_names[:5])"
   ]
  },
  {
   "cell_type": "code",
   "execution_count": 3,
   "id": "7664247f-3255-4bbc-9485-a55b0807c02f",
   "metadata": {},
   "outputs": [
    {
     "name": "stdout",
     "output_type": "stream",
     "text": [
      "CRN created.\n",
      "Reaction indices: [2, 19, 21]\n",
      "Parameter values: {'k2': 1.0, 'k19': 1.0, 'k21': 0.1}\n"
     ]
    }
   ],
   "source": [
    "##########################\n",
    "# Set up Reaction System #\n",
    "##########################\n",
    "\n",
    "selected_rxns  = [\"Empty_to_X1\", \"X1_to_2X1\",\"X1+X2_to_X2\"]\n",
    "selected_rates = [1.0, 1.0,0.1]  # \"Empty_to_X1\", \"X1_to_2X1\",\"X2+X1_to_X2\"\n",
    "\n",
    "\n",
    "(CRN_stoichiometric_matrix,\n",
    "CRN_reaction_names,\n",
    " CRN_parameter_names,\n",
    " CRN_propensities,\n",
    " CRN_parameter_values,\n",
    " CRN_indices) = build_subCRN_from_names(\n",
    "    reactant_matrix,\n",
    "    product_matrix,\n",
    "    stoichiometric_matrix,\n",
    "    reaction_names,\n",
    "    parameter_names,\n",
    "    species_names,\n",
    "    selected_names=selected_rxns,\n",
    "    rates=selected_rates\n",
    ")\n",
    "\n",
    "rn = CRN(\n",
    "    species_names=species_names,\n",
    "    stoichiometric_matrix=CRN_stoichiometric_matrix,\n",
    "    parameters_names=CRN_parameter_names,\n",
    "    reaction_names=CRN_reaction_names,\n",
    "    propensities=CRN_propensities\n",
    ")\n",
    "\n",
    "print(\"CRN created.\")\n",
    "print(\"Reaction indices:\", CRN_indices)\n",
    "print(\"Parameter values:\", CRN_parameter_values)"
   ]
  },
  {
   "cell_type": "code",
   "execution_count": 4,
   "id": "acd70c96-52ea-4265-ace9-13b7a80941c4",
   "metadata": {},
   "outputs": [
    {
     "name": "stdout",
     "output_type": "stream",
     "text": [
      "Initial state: {'X1': np.int64(0), 'X2': np.int64(5)}\n",
      "Trajectory saved to ../data/example2_trajectory.json\n",
      "CRN trajectory saved to ../data/example2_trajectory.json\n"
     ]
    },
    {
     "data": {
      "image/png": "[encoded data removed]",
      "text/plain": [
       "<Figure size 600x300 with 2 Axes>"
      ]
     },
     "metadata": {},
     "output_type": "display_data"
    }
   ],
   "source": [
    "data_dir = \"../data\"  # relative to examples/ folder\n",
    "os.makedirs(data_dir, exist_ok=True)\n",
    "\n",
    "###############################\n",
    "# Generate trajectory for CRN #\n",
    "###############################\n",
    "# Example: 2D species, X1 starts at 0, X2 starts at 10\n",
    "species_min = [0, 5]\n",
    "species_max = [0, 5]\n",
    "\n",
    "time_list, state_list = generate_single_trajectory(\n",
    "    rn,\n",
    "    CRN_parameter_values,\n",
    "    species_names,\n",
    "    finalTime=5,   # adjust as needed\n",
    "    minVal=species_min,\n",
    "    maxVal=species_max,\n",
    "    seed=42          # for reproducibility\n",
    ")\n",
    "\n",
    "trajectory_file = os.path.join(data_dir, \"example2_trajectory.json\")\n",
    "save_trajectory(time_list, state_list, filename=trajectory_file)\n",
    "print(f\"CRN trajectory saved to {trajectory_file}\")"
   ]
  },
  {
   "cell_type": "code",
   "execution_count": 5,
   "id": "62bd3d8c-c5a1-4c77-a9e6-a6e30fcf03ba",
   "metadata": {},
   "outputs": [
    {
     "name": "stdout",
     "output_type": "stream",
     "text": [
      "Wrapped single trajectory into list of trajectories.\n",
      "Tracking data for 18 unique stoichiometric changes\n",
      "Processing trajectory 1 of 1\n",
      "\tProcessing state 0 of 30\n",
      "Finished processing states. Computing propensities...\n",
      "\tProcessing propensities for state 0 = (0, 5)\n",
      "Finished successfully.\n",
      "CRN: 14 unique states observed\n"
     ]
    }
   ],
   "source": [
    "# Parse trajectory for CRN1\n",
    "[col_dict, XCurrKeys, X_Counts, T_Vals, X_Propensities] = \\\n",
    "    calc_XCurr_ChangeTimePropensitySimple(\n",
    "        state_list,\n",
    "        time_list,\n",
    "        reactant_matrix,\n",
    "        stoichiometric_matrix\n",
    "    )\n",
    "\n",
    "# Print some basic info to check\n",
    "print(f\"CRN: {len(XCurrKeys)} unique states observed\")"
   ]
  },
  {
   "cell_type": "code",
   "execution_count": 6,
   "id": "70956de2-09b3-4d81-b7ec-1b022c7bc48c",
   "metadata": {},
   "outputs": [
    {
     "data": {
      "text/plain": [
       "[(0, 5),\n",
       " (1, 5),\n",
       " (2, 5),\n",
       " (3, 5),\n",
       " (4, 5),\n",
       " (5, 5),\n",
       " (6, 5),\n",
       " (7, 5),\n",
       " (8, 5),\n",
       " (9, 5),\n",
       " (10, 5),\n",
       " (11, 5),\n",
       " (12, 5),\n",
       " (13, 5)]"
      ]
     },
     "execution_count": 6,
     "metadata": {},
     "output_type": "execute_result"
    }
   ],
   "source": [
    "XCurrKeys"
   ]
  }
 ],
 "metadata": {
  "kernelspec": {
   "display_name": "Python 3 (ipykernel)",
   "language": "python",
   "name": "python3"
  },
  "language_info": {
   "codemirror_mode": {
    "name": "ipython",
    "version": 3
   },
   "file_extension": ".py",
   "mimetype": "text/x-python",
   "name": "python",
   "nbconvert_exporter": "python",
   "pygments_lexer": "ipython3",
   "version": "3.12.6"
  }
 },
 "nbformat": 4,
 "nbformat_minor": 5
}
